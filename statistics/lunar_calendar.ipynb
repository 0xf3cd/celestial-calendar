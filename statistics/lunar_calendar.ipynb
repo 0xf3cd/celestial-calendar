{
 "cells": [
  {
   "cell_type": "markdown",
   "metadata": {},
   "source": [
    "### Analysis on Lunar Date Conversions\n",
    "* At this moment, there are 2 algorithms available\n",
    "  * Algo 1 is based on Hong Kong Observatory's data\n",
    "  * Algo 2 is based on astro-calculation, using VSOP87D and ELP2000-82B\n",
    "* The 2 algorithms procude different results on year 1914, 1915, 1916, 1920"
   ]
  },
  {
   "cell_type": "code",
   "execution_count": 1,
   "metadata": {},
   "outputs": [],
   "source": [
    "from common import LunarAlgo, get_lunar_year_info, get_supported_lunar_year_range"
   ]
  },
  {
   "cell_type": "code",
   "execution_count": 2,
   "metadata": {},
   "outputs": [
    {
     "data": {
      "text/plain": [
       "LunarYearInfo(first_day=datetime.date(1914, 1, 26), leap_month=5, month_lengths=[30, 30, 29, 30, 29, 30, 29, 30, 29, 29, 30, 29, 30])"
      ]
     },
     "execution_count": 2,
     "metadata": {},
     "output_type": "execute_result"
    }
   ],
   "source": [
    "get_lunar_year_info(LunarAlgo.ALGO_1, 1914)"
   ]
  },
  {
   "cell_type": "code",
   "execution_count": 3,
   "metadata": {},
   "outputs": [
    {
     "data": {
      "text/plain": [
       "LunarYearInfo(first_day=datetime.date(1914, 1, 26), leap_month=5, month_lengths=[30, 30, 29, 30, 29, 30, 29, 30, 29, 30, 29, 29, 30])"
      ]
     },
     "execution_count": 3,
     "metadata": {},
     "output_type": "execute_result"
    }
   ],
   "source": [
    "get_lunar_year_info(LunarAlgo.ALGO_2, 1914)"
   ]
  },
  {
   "cell_type": "code",
   "execution_count": 4,
   "metadata": {},
   "outputs": [],
   "source": [
    "from functools import partial\n",
    "\n",
    "# Use algo1's supported range since it's narrower.\n",
    "# The year supported by algo1 should also be supported by algo2.\n",
    "supported_range = get_supported_lunar_year_range(LunarAlgo.ALGO_1)\n",
    "years = list(range(supported_range.start, supported_range.end + 1))\n",
    "\n",
    "f1 = partial(get_lunar_year_info, LunarAlgo.ALGO_1)\n",
    "f2 = partial(get_lunar_year_info, LunarAlgo.ALGO_2)\n",
    "\n",
    "results_algo1 = list(map(f1, years))\n",
    "results_algo2 = list(map(f2, years))"
   ]
  },
  {
   "cell_type": "code",
   "execution_count": 5,
   "metadata": {},
   "outputs": [
    {
     "data": {
      "text/plain": [
       "[1914, 1915, 1916, 1920]"
      ]
     },
     "execution_count": 5,
     "metadata": {},
     "output_type": "execute_result"
    }
   ],
   "source": [
    "from itertools import compress\n",
    "\n",
    "results_cmp = [r1 == r2 for r1, r2 in zip(results_algo1, results_algo2)]\n",
    "\n",
    "unmatched = list(compress(\n",
    "  years, [not x for x in results_cmp]\n",
    "))\n",
    "unmatched"
   ]
  },
  {
   "cell_type": "code",
   "execution_count": 6,
   "metadata": {},
   "outputs": [
    {
     "name": "stdout",
     "output_type": "stream",
     "text": [
      "Examine for year 1914\n",
      "  algo1: [30, 30, 29, 30, 29, 30, 29, 30, 29, 29, 30, 29, 30]\n",
      "  algo2: [30, 30, 29, 30, 29, 30, 29, 30, 29, 30, 29, 29, 30]\n",
      "\n",
      "Examine for year 1915\n",
      "  algo1: [30, 29, 30, 30, 29, 30, 29, 30, 29, 30, 29, 29]\n",
      "  algo2: [30, 29, 30, 30, 29, 30, 29, 30, 29, 30, 29, 30]\n",
      "\n",
      "Examine for year 1916\n",
      "  algo1: 1916-02-03\n",
      "  algo2: 1916-02-04\n",
      "\n",
      "  algo1: [30, 30, 29, 30, 29, 30, 30, 29, 30, 29, 30, 29]\n",
      "  algo2: [29, 30, 29, 30, 29, 30, 30, 29, 30, 29, 30, 29]\n",
      "\n",
      "Examine for year 1920\n",
      "  algo1: [29, 30, 29, 29, 30, 29, 29, 30, 29, 30, 30, 30]\n",
      "  algo2: [29, 30, 29, 29, 30, 29, 29, 30, 30, 29, 30, 30]\n",
      "\n"
     ]
    }
   ],
   "source": [
    "for y in unmatched:\n",
    "  algo1_info = get_lunar_year_info(LunarAlgo.ALGO_1, y)\n",
    "  algo2_info = get_lunar_year_info(LunarAlgo.ALGO_2, y)\n",
    "\n",
    "  print(f'Examine for year {y}')\n",
    "  if algo1_info.first_day != algo2_info.first_day:\n",
    "    print(f'  algo1: {algo1_info.first_day}')\n",
    "    print(f'  algo2: {algo2_info.first_day}')\n",
    "    print()\n",
    "\n",
    "  if algo1_info.leap_month != algo2_info.leap_month:\n",
    "    print(f'  algo1: {algo1_info.leap_month}')\n",
    "    print(f'  algo2: {algo2_info.leap_month}')\n",
    "    print()\n",
    "\n",
    "  if algo1_info.month_lengths != algo2_info.month_lengths:\n",
    "    print(f'  algo1: {algo1_info.month_lengths}')\n",
    "    print(f'  algo2: {algo2_info.month_lengths}')\n",
    "    print()"
   ]
  },
  {
   "cell_type": "markdown",
   "metadata": {},
   "source": [
    "* According to https://ytliu0.github.io/ChineseCalendar/computation_simp.html, these calculation results are not accurate\n",
    "  * 10th lunar month in 1914\n",
    "  * 1st lunar month in 1916\n",
    "  * 10th lunar month in 1920\n",
    "* That's why algo1 and algo2 have different results on these years"
   ]
  },
  {
   "cell_type": "code",
   "execution_count": 7,
   "metadata": {},
   "outputs": [
    {
     "data": {
      "text/plain": [
       "datetime.datetime(1914, 11, 18, 0, 1, 49, 741625)"
      ]
     },
     "execution_count": 7,
     "metadata": {},
     "output_type": "execute_result"
    }
   ],
   "source": [
    "import common\n",
    "from datetime import timedelta\n",
    "\n",
    "new_moon_moments = common.new_moons_in_year(1914).new_moon_moments\n",
    "\n",
    "# Convert to UT1+8\n",
    "new_moon_moments_ut1_8 = [m + timedelta(hours=8) for m in new_moon_moments]\n",
    "\n",
    "# algo1 (observed): 1914.11.17\n",
    "# algo2 (calculated): 1914.11.18\n",
    "new_moon_moments_ut1_8[-2]"
   ]
  },
  {
   "cell_type": "code",
   "execution_count": 8,
   "metadata": {},
   "outputs": [
    {
     "data": {
      "text/plain": [
       "datetime.datetime(1916, 2, 4, 0, 5, 13, 706552)"
      ]
     },
     "execution_count": 8,
     "metadata": {},
     "output_type": "execute_result"
    }
   ],
   "source": [
    "new_moon_moments = common.new_moons_in_year(1916).new_moon_moments\n",
    "\n",
    "# Convert to UT1+8\n",
    "new_moon_moments_ut1_8 = [m + timedelta(hours=8) for m in new_moon_moments]\n",
    "\n",
    "# algo1 (observed): 1916.02.03\n",
    "# algo2 (calculated): 1916.02.04\n",
    "new_moon_moments_ut1_8[1]"
   ]
  },
  {
   "cell_type": "code",
   "execution_count": 9,
   "metadata": {},
   "outputs": [
    {
     "data": {
      "text/plain": [
       "datetime.datetime(1920, 11, 11, 0, 4, 48, 680642)"
      ]
     },
     "execution_count": 9,
     "metadata": {},
     "output_type": "execute_result"
    }
   ],
   "source": [
    "new_moon_moments = common.new_moons_in_year(1920).new_moon_moments\n",
    "\n",
    "# Convert to UT1+8\n",
    "new_moon_moments_ut1_8 = [m + timedelta(hours=8) for m in new_moon_moments]\n",
    "\n",
    "# algo1 (observed): 1920.11.10\n",
    "# algo2 (calculated): 1920.11.11\n",
    "new_moon_moments_ut1_8[-2]"
   ]
  },
  {
   "cell_type": "code",
   "execution_count": 10,
   "metadata": {},
   "outputs": [
    {
     "data": {
      "text/plain": [
       "[datetime.datetime(1912, 11, 22, 23, 48, 14, 236353),\n",
       " datetime.datetime(1913, 9, 23, 23, 52, 48, 550398),\n",
       " datetime.datetime(1917, 12, 8, 0, 1, 5, 384493),\n",
       " datetime.datetime(1927, 9, 9, 0, 5, 30, 851009),\n",
       " datetime.datetime(1928, 6, 22, 0, 6, 27, 473321),\n",
       " datetime.datetime(1979, 1, 20, 23, 59, 56, 815078)]"
      ]
     },
     "execution_count": 10,
     "metadata": {},
     "output_type": "execute_result"
    }
   ],
   "source": [
    "from common import Jieqi, jieqi_moment\n",
    "from dataclasses import dataclass\n",
    "\n",
    "# As per https://ytliu0.github.io/ChineseCalendar/computation_simp.html,\n",
    "# The following Jieqi moments are near 00:00:00, and are different than the ones that the government provides.\n",
    "# The differences of Jieqi moments also makes differences in Ganzhi calendar, since Ganzhi calendar is based on Jieqi.\n",
    "\n",
    "@dataclass\n",
    "class JieqiPair:\n",
    "  year: int\n",
    "  jq: Jieqi\n",
    "\n",
    "pairs = [\n",
    "  JieqiPair(1912, Jieqi.小雪),\n",
    "  JieqiPair(1913, Jieqi.秋分),\n",
    "  JieqiPair(1917, Jieqi.大雪),\n",
    "  JieqiPair(1927, Jieqi.白露),\n",
    "  JieqiPair(1928, Jieqi.夏至),\n",
    "  JieqiPair(1979, Jieqi.大寒),\n",
    "]\n",
    "\n",
    "results = [jieqi_moment(p.year, p.jq) for p in pairs]\n",
    "\n",
    "moments = [r.moment for r in results]\n",
    "\n",
    "moments_ut1_8 = [m + timedelta(hours=8) for m in moments]\n",
    "\n",
    "moments_ut1_8"
   ]
  },
  {
   "cell_type": "markdown",
   "metadata": {},
   "source": [
    "* Encode the lunar year info for years 1600 - 2200\n",
    "  * For years available using algo1, we use algo1\n",
    "  * For other years, algo2 is used"
   ]
  },
  {
   "cell_type": "code",
   "execution_count": 11,
   "metadata": {},
   "outputs": [
    {
     "name": "stdout",
     "output_type": "stream",
     "text": [
      "Algo1 range: SupportedLunarYearRange(start=1901, end=2099)\n",
      "Algo2 range: SupportedLunarYearRange(start=410, end=5000)\n"
     ]
    }
   ],
   "source": [
    "algo1_range = common.get_supported_lunar_year_range(common.LunarAlgo.ALGO_1)\n",
    "algo2_range = common.get_supported_lunar_year_range(common.LunarAlgo.ALGO_2)\n",
    "\n",
    "print(f'Algo1 range: {algo1_range}')\n",
    "print(f'Algo2 range: {algo2_range}')\n",
    "\n",
    "def in_algo1_range(year: int) -> bool:\n",
    "  return algo1_range.start <= year <= algo1_range.end\n",
    "\n",
    "def in_algo2_range(year: int) -> bool:\n",
    "  return algo2_range.start <= year <= algo2_range.end"
   ]
  },
  {
   "cell_type": "code",
   "execution_count": 12,
   "metadata": {},
   "outputs": [],
   "source": [
    "years = list(range(1600, 2200))\n",
    "\n",
    "def find_algo(year) -> common.LunarAlgo:\n",
    "  if in_algo1_range(year):\n",
    "    return common.LunarAlgo.ALGO_1\n",
    "  elif in_algo2_range(year):\n",
    "    return common.LunarAlgo.ALGO_2\n",
    "  else:\n",
    "    raise ValueError(f'Year {year} is not in any of the supported ranges.')\n",
    "  \n",
    "algos = list(map(find_algo, years))\n",
    "\n",
    "infos = list(map(common.get_lunar_year_info, algos, years))"
   ]
  },
  {
   "cell_type": "code",
   "execution_count": 13,
   "metadata": {},
   "outputs": [],
   "source": [
    "from datetime import date\n",
    "\n",
    "def encode_info(info: common.LunarYearInfo) -> int:\n",
    "  # Find the offset from the first day in the Gregorian year.\n",
    "  first_gregorian_day = (info.first_day - date(info.first_day.year, 1, 1)).days\n",
    "\n",
    "  encoded = 0\n",
    "  encoded |= (first_gregorian_day << 17)\n",
    "\n",
    "  encoded |= (info.leap_month << 13)\n",
    "\n",
    "  for i, month_len in enumerate(info.month_lengths):\n",
    "    assert month_len in (29, 30)\n",
    "    if month_len == 30:\n",
    "      encoded |= (1 << i)\n",
    "\n",
    "  return encoded"
   ]
  },
  {
   "cell_type": "code",
   "execution_count": 14,
   "metadata": {},
   "outputs": [],
   "source": [
    "encoded = list(map(encode_info, infos))"
   ]
  },
  {
   "cell_type": "code",
   "execution_count": 15,
   "metadata": {},
   "outputs": [
    {
     "name": "stdout",
     "output_type": "stream",
     "text": [
      "0x620752\n",
      "0x4c0ea5\n",
      "0x38b64a\n",
      "0x28549b\n"
     ]
    }
   ],
   "source": [
    "query_table = dict(zip(years, encoded))\n",
    "\n",
    "print(hex(query_table[1901]))\n",
    "print(hex(query_table[1902]))\n",
    "print(hex(query_table[1903]))\n",
    "print(hex(query_table[2099]))"
   ]
  },
  {
   "cell_type": "code",
   "execution_count": 16,
   "metadata": {},
   "outputs": [
    {
     "name": "stdout",
     "output_type": "stream",
     "text": [
      "0x5a0ba4, 0x420b49, 0x2c7a93, 0x520a95, 0x3cf52d, 0x600556, 0x4a0ab5, 0x36d5aa, 0x5c05d2, 0x440da5,\n",
      "0x309d4a, 0x560d4a, 0x400a96, 0x28552e, 0x4e0556, 0x38cab5, 0x5e0ad5, 0x4806d2, 0x328ea5, 0x580f25,\n",
      "0x44064a, 0x2a6c97, 0x500a9b, 0x3d155a, 0x62056a, 0x4a0b69, 0x36b752, 0x5c0b52, 0x460b25, 0x2e964b,\n",
      "0x540a4d, 0x3e04ab, 0x28455b, 0x4c05ad, 0x38eb69, 0x5e0da9, 0x4a0d92, 0x32bd25, 0x580d25, 0x420a55,\n",
      "0x2c74ad, 0x5002b6, 0x3b65b5, 0x6006d5, 0x4c0ec9, 0x36be92, 0x5c0e92, 0x460d26, 0x308a56, 0x520a57,\n",
      "0x3e04d6, 0x2826d5, 0x4e06d5, 0x38d6c9, 0x5e0749, 0x480693, 0x32b52b, 0x56052b, 0x400a5b, 0x2c755a,\n",
      "0x52056a, 0x3b1b65, 0x620ba4, 0x4c0b49, 0x36da95, 0x5a0a95, 0x44052d, 0x2e8aad, 0x540ab5, 0x3e05aa,\n",
      "0x284ba5, 0x4e0da5, 0x3afd4a, 0x5e0e4a, 0x480c96, 0x32b52e, 0x580556, 0x400ab5, 0x2c75b2, 0x5206d2,\n",
      "0x3d0ea5, 0x600725, 0x4a064b, 0x34cc97, 0x5a0cab, 0x44055a, 0x2e8ad6, 0x540b69, 0x400752, 0x287725,\n",
      "0x4e0b25, 0x38fa4b, 0x5e0a4d, 0x4604ab, 0x30a55b, 0x5605ad, 0x420baa, 0x2c7b52, 0x520d92, 0x3cfd25,\n",
      "0x620d25, 0x4c0a55, 0x36d4ad, 0x5c04b6, 0x4606b5, 0x308daa, 0x560ec9, 0x420e92, 0x2c7d25, 0x500d26,\n",
      "0x3aea56, 0x5e0a5b, 0x4a055a, 0x32a6d5, 0x580755, 0x440749, 0x2e6e93, 0x520693, 0x3d152b, 0x62052b,\n",
      "0x4c0a9b, 0x36d55a, 0x5c056a, 0x460b65, 0x32974a, 0x560b4a, 0x400a95, 0x2a552b, 0x50052d, 0x38eaad,\n",
      "0x5e0ab5, 0x4a05aa, 0x34aba5, 0x580da5, 0x440d4a, 0x2e9d15, 0x540c96, 0x3d3956, 0x620556, 0x4c0ad5,\n",
      "0x38d5b2, 0x5c06d2, 0x460ea5, 0x328e8a, 0x56068b, 0x3e0c97, 0x2a6956, 0x4e055b, 0x3aeada, 0x5e0b6a,\n",
      "0x4a0752, 0x34b725, 0x5a0b45, 0x420a8b, 0x2c94ab, 0x5204ad, 0x3d296b, 0x6005b5, 0x4c0baa, 0x38db52,\n",
      "0x5e0da2, 0x460d45, 0x30ba8d, 0x560a55, 0x4004ad, 0x2849ad, 0x4e06b5, 0x3aedaa, 0x600eca, 0x4a0ea2,\n",
      "0x34bd46, 0x5a0d4a, 0x440a96, 0x2c7536, 0x52055a, 0x3d4ad5, 0x620b65, 0x4c0752, 0x36cea3, 0x5c0695,\n",
      "0x46054b, 0x2eaa97, 0x540aab, 0x40055a, 0x2a6ad5, 0x4e0b65, 0x3af752, 0x600b52, 0x4a0b15, 0x32d52b,\n",
      "0x58054d, 0x420aad, 0x2e956a, 0x5205b2, 0x3c0ba9, 0x285d52, 0x4e0d8a, 0x36dd15, 0x5c0d26, 0x460956,\n",
      "0x308aad, 0x560ad6, 0x4205d4, 0x2c4da9, 0x520ea9, 0x3cce8a, 0x60068b, 0x4a0d27, 0x36a956, 0x58095b,\n",
      "0x440ada, 0x3076d4, 0x560754, 0x3e0745, 0x28568b, 0x4e0a93, 0x38d52b, 0x5c04ad, 0x46096d, 0x328b6a,\n",
      "0x580baa, 0x420ba4, 0x2c7b45, 0x520d45, 0x3cfa95, 0x600a95, 0x4a052d, 0x34aaad, 0x5a0ab5, 0x440daa,\n",
      "0x309da4, 0x560ea2, 0x413d4a, 0x640d4a, 0x4e0a96, 0x38d536, 0x5e055a, 0x460ad5, 0x3296ca, 0x580752,\n",
      "0x420ea5, 0x2c6d4a, 0x50054b, 0x3aea97, 0x600aab, 0x4a055a, 0x34ab55, 0x5a0ba9, 0x460752, 0x2e9aa5,\n",
      "0x540b25, 0x3f1a4b, 0x64094d, 0x4c0aad, 0x38f56a, 0x5e05b4, 0x480ba9, 0x32bd52, 0x580d92, 0x420d25,\n",
      "0x2c7a4d, 0x500956, 0x3b0ab5, 0x600ad6, 0x4c06d4, 0x34ada9, 0x5a0ec9, 0x460e92, 0x308d26, 0x520527,\n",
      "0x3d4a57, 0x62095b, 0x4e0b5a, 0x38d6d4, 0x5e0754, 0x480749, 0x32b693, 0x560a93, 0x40052b, 0x2a6a5b,\n",
      "0x500a6d, 0x3aeb6a, 0x600daa, 0x4c0ba4, 0x36bb49, 0x5a0d49, 0x440a95, 0x2e952b, 0x54052d, 0x3c0aad,\n",
      "0x28556a, 0x4e0daa, 0x3adda4, 0x5e0ea4, 0x480d4a, 0x32ba95, 0x580a96, 0x400556, 0x2a6ab5, 0x500ad5,\n",
      "0x3d16d2, 0x620752, 0x4c0ea5, 0x38b64a, 0x5c064b, 0x440a9b, 0x309556, 0x56056a, 0x400b59, 0x2a5752,\n",
      "0x500752, 0x3adb25, 0x600b25, 0x480a4b, 0x32b4ab, 0x5802ad, 0x42056b, 0x2c4b69, 0x520da9, 0x3efd92,\n",
      "0x640e92, 0x4c0d25, 0x36ba4d, 0x5c0a56, 0x4602b6, 0x2e95b5, 0x5606d4, 0x400ea9, 0x2c5e92, 0x500e92,\n",
      "0x3acd26, 0x5e052b, 0x480a57, 0x32b2b6, 0x580b5a, 0x4406d4, 0x2e6ec9, 0x520749, 0x3cf693, 0x620a93,\n",
      "0x4c052b, 0x34ca5b, 0x5a0aad, 0x46056a, 0x309b55, 0x560ba4, 0x400b49, 0x2a5a93, 0x500a95, 0x38f52d,\n",
      "0x5e0536, 0x480aad, 0x34b5aa, 0x5805b2, 0x420da5, 0x2e7d4a, 0x540d4a, 0x3d0a95, 0x600a97, 0x4c0556,\n",
      "0x36cab5, 0x5a0ad5, 0x4606d2, 0x308ea5, 0x560ea5, 0x40064a, 0x286c97, 0x4e0a9b, 0x3af55a, 0x5e056a,\n",
      "0x480b69, 0x34b752, 0x5a0b52, 0x420b25, 0x2c964b, 0x520a4b, 0x3d14ab, 0x6002ad, 0x4a056d, 0x36cb69,\n",
      "0x5c0da9, 0x460d92, 0x309d25, 0x560d25, 0x415a4d, 0x640a56, 0x4e02b6, 0x38c5b5, 0x5e06d5, 0x480ea9,\n",
      "0x34be92, 0x5a0e92, 0x440d26, 0x2c6a56, 0x500a57, 0x3d14d6, 0x62035a, 0x4a06d5, 0x36b6c9, 0x5c0749,\n",
      "0x460693, 0x2e952b, 0x54052b, 0x3e0a5b, 0x2a555a, 0x4e056a, 0x38fb55, 0x600ba4, 0x4a0b49, 0x32ba93,\n",
      "0x580a95, 0x42052d, 0x2c8aad, 0x500ab5, 0x3d35aa, 0x6205d2, 0x4c0da5, 0x36dd4a, 0x5c0d4a, 0x460c95,\n",
      "0x30952e, 0x540556, 0x3e0ab5, 0x2a55b2, 0x5006d2, 0x38cea5, 0x5e0725, 0x48064b, 0x32ac97, 0x560cab,\n",
      "0x42055a, 0x2c6ad6, 0x520b69, 0x3d7752, 0x620b52, 0x4c0b25, 0x36da4b, 0x5a0a4b, 0x4404ab, 0x2ea55b,\n",
      "0x5405ad, 0x3e0b6a, 0x2a5b52, 0x500d92, 0x3afd25, 0x5e0d25, 0x480a55, 0x32b4ad, 0x5804b6, 0x4005b5,\n",
      "0x2c6daa, 0x520ec9, 0x3f1e92, 0x620e92, 0x4c0d26, 0x36ca56, 0x5a0a57, 0x440556, 0x2e86d5, 0x540755,\n",
      "0x400749, 0x286e93, 0x4e0693, 0x38f52b, 0x5e052b, 0x460a5b, 0x32b55a, 0x58056a, 0x420b65, 0x2c974a,\n",
      "0x520b4a, 0x3d1a95, 0x620a95, 0x4a052d, 0x34caad, 0x5a0ab5, 0x4605aa, 0x2e8ba5, 0x540da5, 0x400d4a,\n",
      "0x2a7c95, 0x4e0c96, 0x38f94e, 0x5e0556, 0x480ab5, 0x32b5b2, 0x5806d2, 0x420ea5, 0x2e8e4a, 0x50068b,\n",
      "0x3b0c97, 0x6004ab, 0x4a055b, 0x34cad6, 0x5a0b6a, 0x460752, 0x309725, 0x540b45, 0x3e0a8b, 0x28549b,\n",
      "0x4e04ab, 0x38e95b, 0x5e05ad, 0x4a0baa, 0x36bb52, 0x5a0d92, 0x440d25, 0x2e9a4b, 0x540a55, 0x3d34ad,\n",
      "0x6204b6, 0x4c06b5, 0x38cdaa, 0x5c0ec9, 0x480e92, 0x329d26, 0x580d2a, 0x400a56, 0x2a74b6, 0x500556,\n",
      "0x3aead5, 0x5e0b55, 0x4a074a, 0x34ae93, 0x5a0695, 0x42052b, 0x2c8a57, 0x520a9b, 0x3f755a, 0x62056a,\n",
      "0x4c0b65, 0x38d74a, 0x5e0b4a, 0x460b15, 0x30b52b, 0x56054d, 0x400aad, 0x2a556a, 0x5005aa, 0x3aeba5,\n",
      "0x600da5, 0x4a0d4a, 0x34bd15, 0x5a0d16, 0x44094e, 0x2c8aad, 0x520ad6, 0x3f75b4, 0x6406d2, 0x4c0ea5,\n",
      "0x38ce8a, 0x5c068b, 0x460d17, 0x30a956, 0x54095b, 0x400ada, 0x2c76d4, 0x500754, 0x3af745, 0x600b45,\n",
      "0x4a0a8b, 0x32d52b, 0x5804ad, 0x42096b, 0x2e8b5a, 0x520daa, 0x3f5b54, 0x640da2, 0x4e0d45, 0x36da95,\n",
      "0x5c0a95, 0x46052d, 0x30aaad, 0x540ab5, 0x400daa, 0x2c7da4, 0x520ea2, 0x3afd46, 0x600d4a, 0x4a0a96,\n",
      "0x34d536, 0x58055a, 0x420ad5, 0x2e96ca, 0x540752, 0x3c0ea5, 0x284d4a, 0x4c054b, 0x36ca97, 0x5a0aab,\n",
      "0x46055a, 0x30aad5, 0x560b65, 0x400752, 0x2a7aa5, 0x500b25, 0x3afa4b, 0x5e094d, 0x480aad, 0x34d56a,\n"
     ]
    }
   ],
   "source": [
    "# Generate C++ code.\n",
    "# Print 10 entries in a row.\n",
    "\n",
    "from itertools import batched\n",
    "\n",
    "encoded_hex_str = [f'0x{e:x},' for e in encoded]\n",
    "\n",
    "for batch in batched(encoded_hex_str, 10):\n",
    "  print(' '.join(batch))"
   ]
  }
 ],
 "metadata": {
  "kernelspec": {
   "display_name": "py312",
   "language": "python",
   "name": "python3"
  },
  "language_info": {
   "codemirror_mode": {
    "name": "ipython",
    "version": 3
   },
   "file_extension": ".py",
   "mimetype": "text/x-python",
   "name": "python",
   "nbconvert_exporter": "python",
   "pygments_lexer": "ipython3",
   "version": "3.12.3"
  }
 },
 "nbformat": 4,
 "nbformat_minor": 2
}
