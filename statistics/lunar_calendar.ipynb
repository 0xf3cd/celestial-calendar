{
 "cells": [
  {
   "cell_type": "markdown",
   "metadata": {},
   "source": [
    "### Analysis on Lunar Date Conversions\n",
    "* At this moment, there are 2 algorithms available\n",
    "  * Algo 1 is based on Hong Kong Observatory's data\n",
    "  * Algo 2 is based on astro-calculation, using VSOP87D and ELP2000-82B\n",
    "* The 2 algorithms procude different results on year 1914, 1915, 1916, 1920"
   ]
  },
  {
   "cell_type": "code",
   "execution_count": 1,
   "metadata": {},
   "outputs": [],
   "source": [
    "from common import LunarAlgo, get_lunar_year_info, get_supported_lunar_year_range"
   ]
  },
  {
   "cell_type": "code",
   "execution_count": 2,
   "metadata": {},
   "outputs": [
    {
     "data": {
      "text/plain": [
       "LunarYearInfo(first_day=datetime.date(1914, 1, 26), leap_month=5, month_lengths=[30, 30, 29, 30, 29, 30, 29, 30, 29, 29, 30, 29, 30])"
      ]
     },
     "execution_count": 2,
     "metadata": {},
     "output_type": "execute_result"
    }
   ],
   "source": [
    "get_lunar_year_info(LunarAlgo.ALGO_1, 1914)"
   ]
  },
  {
   "cell_type": "code",
   "execution_count": 3,
   "metadata": {},
   "outputs": [
    {
     "data": {
      "text/plain": [
       "LunarYearInfo(first_day=datetime.date(1914, 1, 26), leap_month=5, month_lengths=[30, 30, 29, 30, 29, 30, 29, 30, 29, 30, 29, 29, 30])"
      ]
     },
     "execution_count": 3,
     "metadata": {},
     "output_type": "execute_result"
    }
   ],
   "source": [
    "get_lunar_year_info(LunarAlgo.ALGO_2, 1914)"
   ]
  },
  {
   "cell_type": "code",
   "execution_count": 4,
   "metadata": {},
   "outputs": [],
   "source": [
    "from functools import partial\n",
    "\n",
    "# Use algo1's supported range since it's narrower.\n",
    "# The year supported by algo1 should also be supported by algo2.\n",
    "supported_range = get_supported_lunar_year_range(LunarAlgo.ALGO_1)\n",
    "years = list(range(supported_range.start, supported_range.end + 1))\n",
    "\n",
    "f1 = partial(get_lunar_year_info, LunarAlgo.ALGO_1)\n",
    "f2 = partial(get_lunar_year_info, LunarAlgo.ALGO_2)\n",
    "\n",
    "results_algo1 = list(map(f1, years))\n",
    "results_algo2 = list(map(f2, years))"
   ]
  },
  {
   "cell_type": "code",
   "execution_count": 5,
   "metadata": {},
   "outputs": [
    {
     "data": {
      "text/plain": [
       "[1914, 1915, 1916, 1920]"
      ]
     },
     "execution_count": 5,
     "metadata": {},
     "output_type": "execute_result"
    }
   ],
   "source": [
    "from itertools import compress\n",
    "\n",
    "results_cmp = [r1 == r2 for r1, r2 in zip(results_algo1, results_algo2)]\n",
    "\n",
    "unmatched = list(compress(\n",
    "  years, [not x for x in results_cmp]\n",
    "))\n",
    "unmatched"
   ]
  },
  {
   "cell_type": "code",
   "execution_count": 6,
   "metadata": {},
   "outputs": [
    {
     "name": "stdout",
     "output_type": "stream",
     "text": [
      "Examine for year 1914\n",
      "  algo1: [30, 30, 29, 30, 29, 30, 29, 30, 29, 29, 30, 29, 30]\n",
      "  algo2: [30, 30, 29, 30, 29, 30, 29, 30, 29, 30, 29, 29, 30]\n",
      "\n",
      "Examine for year 1915\n",
      "  algo1: [30, 29, 30, 30, 29, 30, 29, 30, 29, 30, 29, 29]\n",
      "  algo2: [30, 29, 30, 30, 29, 30, 29, 30, 29, 30, 29, 30]\n",
      "\n",
      "Examine for year 1916\n",
      "  algo1: 1916-02-03\n",
      "  algo2: 1916-02-04\n",
      "\n",
      "  algo1: [30, 30, 29, 30, 29, 30, 30, 29, 30, 29, 30, 29]\n",
      "  algo2: [29, 30, 29, 30, 29, 30, 30, 29, 30, 29, 30, 29]\n",
      "\n",
      "Examine for year 1920\n",
      "  algo1: [29, 30, 29, 29, 30, 29, 29, 30, 29, 30, 30, 30]\n",
      "  algo2: [29, 30, 29, 29, 30, 29, 29, 30, 30, 29, 30, 30]\n",
      "\n"
     ]
    }
   ],
   "source": [
    "for y in unmatched:\n",
    "  algo1_info = get_lunar_year_info(LunarAlgo.ALGO_1, y)\n",
    "  algo2_info = get_lunar_year_info(LunarAlgo.ALGO_2, y)\n",
    "\n",
    "  print(f'Examine for year {y}')\n",
    "  if algo1_info.first_day != algo2_info.first_day:\n",
    "    print(f'  algo1: {algo1_info.first_day}')\n",
    "    print(f'  algo2: {algo2_info.first_day}')\n",
    "    print()\n",
    "\n",
    "  if algo1_info.leap_month != algo2_info.leap_month:\n",
    "    print(f'  algo1: {algo1_info.leap_month}')\n",
    "    print(f'  algo2: {algo2_info.leap_month}')\n",
    "    print()\n",
    "\n",
    "  if algo1_info.month_lengths != algo2_info.month_lengths:\n",
    "    print(f'  algo1: {algo1_info.month_lengths}')\n",
    "    print(f'  algo2: {algo2_info.month_lengths}')\n",
    "    print()"
   ]
  },
  {
   "cell_type": "markdown",
   "metadata": {},
   "source": [
    "* According to https://ytliu0.github.io/ChineseCalendar/computation_simp.html, these calculation results are not accurate\n",
    "  * 10th lunar month in 1914\n",
    "  * 1st lunar month in 1916\n",
    "  * 10th lunar month in 1920\n",
    "* That's why algo1 and algo2 have different results on these years"
   ]
  },
  {
   "cell_type": "code",
   "execution_count": 7,
   "metadata": {},
   "outputs": [
    {
     "data": {
      "text/plain": [
       "datetime.datetime(1914, 11, 18, 0, 1, 49, 741625)"
      ]
     },
     "execution_count": 7,
     "metadata": {},
     "output_type": "execute_result"
    }
   ],
   "source": [
    "import common\n",
    "from datetime import timedelta\n",
    "\n",
    "new_moon_moments = common.new_moons_in_year(1914).new_moon_moments\n",
    "\n",
    "# Convert to UT1+8\n",
    "new_moon_moments_ut1_8 = [m + timedelta(hours=8) for m in new_moon_moments]\n",
    "\n",
    "# algo1 (observed): 1914.11.17\n",
    "# algo2 (calculated): 1914.11.18\n",
    "new_moon_moments_ut1_8[-2]"
   ]
  },
  {
   "cell_type": "code",
   "execution_count": 8,
   "metadata": {},
   "outputs": [
    {
     "data": {
      "text/plain": [
       "datetime.datetime(1916, 2, 4, 0, 5, 13, 706552)"
      ]
     },
     "execution_count": 8,
     "metadata": {},
     "output_type": "execute_result"
    }
   ],
   "source": [
    "new_moon_moments = common.new_moons_in_year(1916).new_moon_moments\n",
    "\n",
    "# Convert to UT1+8\n",
    "new_moon_moments_ut1_8 = [m + timedelta(hours=8) for m in new_moon_moments]\n",
    "\n",
    "# algo1 (observed): 1916.02.03\n",
    "# algo2 (calculated): 1916.02.04\n",
    "new_moon_moments_ut1_8[1]"
   ]
  },
  {
   "cell_type": "code",
   "execution_count": 9,
   "metadata": {},
   "outputs": [
    {
     "data": {
      "text/plain": [
       "datetime.datetime(1920, 11, 11, 0, 4, 48, 680642)"
      ]
     },
     "execution_count": 9,
     "metadata": {},
     "output_type": "execute_result"
    }
   ],
   "source": [
    "new_moon_moments = common.new_moons_in_year(1920).new_moon_moments\n",
    "\n",
    "# Convert to UT1+8\n",
    "new_moon_moments_ut1_8 = [m + timedelta(hours=8) for m in new_moon_moments]\n",
    "\n",
    "# algo1 (observed): 1920.11.10\n",
    "# algo2 (calculated): 1920.11.11\n",
    "new_moon_moments_ut1_8[-2]"
   ]
  },
  {
   "cell_type": "code",
   "execution_count": 10,
   "metadata": {},
   "outputs": [
    {
     "data": {
      "text/plain": [
       "[datetime.datetime(1912, 11, 22, 23, 48, 14, 236353),\n",
       " datetime.datetime(1913, 9, 23, 23, 52, 48, 550398),\n",
       " datetime.datetime(1917, 12, 8, 0, 1, 5, 384493),\n",
       " datetime.datetime(1927, 9, 9, 0, 5, 30, 851009),\n",
       " datetime.datetime(1928, 6, 22, 0, 6, 27, 473321),\n",
       " datetime.datetime(1979, 1, 20, 23, 59, 56, 815078)]"
      ]
     },
     "execution_count": 10,
     "metadata": {},
     "output_type": "execute_result"
    }
   ],
   "source": [
    "from common import Jieqi, jieqi_moment\n",
    "from dataclasses import dataclass\n",
    "\n",
    "# As per https://ytliu0.github.io/ChineseCalendar/computation_simp.html,\n",
    "# The following Jieqi moments are near 00:00:00, and are different than the ones that the government provides.\n",
    "# The differences of Jieqi moments also makes differences in Ganzhi calendar, since Ganzhi calendar is based on Jieqi.\n",
    "\n",
    "@dataclass\n",
    "class JieqiPair:\n",
    "  year: int\n",
    "  jq: Jieqi\n",
    "\n",
    "pairs = [\n",
    "  JieqiPair(1912, Jieqi.小雪),\n",
    "  JieqiPair(1913, Jieqi.秋分),\n",
    "  JieqiPair(1917, Jieqi.大雪),\n",
    "  JieqiPair(1927, Jieqi.白露),\n",
    "  JieqiPair(1928, Jieqi.夏至),\n",
    "  JieqiPair(1979, Jieqi.大寒),\n",
    "]\n",
    "\n",
    "results = [jieqi_moment(p.year, p.jq) for p in pairs]\n",
    "\n",
    "moments = [r.moment for r in results]\n",
    "\n",
    "moments_ut1_8 = [m + timedelta(hours=8) for m in moments]\n",
    "\n",
    "moments_ut1_8"
   ]
  }
 ],
 "metadata": {
  "kernelspec": {
   "display_name": "py312",
   "language": "python",
   "name": "python3"
  },
  "language_info": {
   "codemirror_mode": {
    "name": "ipython",
    "version": 3
   },
   "file_extension": ".py",
   "mimetype": "text/x-python",
   "name": "python",
   "nbconvert_exporter": "python",
   "pygments_lexer": "ipython3",
   "version": "3.12.3"
  }
 },
 "nbformat": 4,
 "nbformat_minor": 2
}
