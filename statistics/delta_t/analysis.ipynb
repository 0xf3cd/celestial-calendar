{
 "cells": [
  {
   "cell_type": "markdown",
   "id": "899f866b",
   "metadata": {},
   "source": [
    "### Statistics on Delta T Values\n",
    "\n",
    "- Data from https://maia.usno.navy.mil/ser7/deltat.data"
   ]
  },
  {
   "cell_type": "code",
   "execution_count": 1,
   "id": "ce518a3f-38a7-4a1b-bb8e-020196d3af93",
   "metadata": {},
   "outputs": [],
   "source": [
    "import common\n",
    "from datetime import datetime\n",
    "\n",
    "assert common.USNO_DATA_PATH.exists(), 'Dataset not found'"
   ]
  },
  {
   "cell_type": "code",
   "execution_count": 2,
   "id": "ac377196-654b-48cd-b15e-2be6822f84c4",
   "metadata": {},
   "outputs": [],
   "source": [
    "lines = filter(\n",
    "  lambda l: len(l.strip()),\n",
    "  common.USNO_DATA_PATH.open('r').readlines(),\n",
    ")\n",
    "\n",
    "def parse_line(line: str) -> tuple[float, float]:\n",
    "  '''Parse a line from the dataset. Return (year, delta_t).'''\n",
    "  year, month, day, delta_t = line.split()\n",
    "\n",
    "  ymd: datetime = datetime(int(year), int(month), int(day))\n",
    "  year_len: int = (datetime(int(year) + 1, 1, 1) - datetime(int(year), 1, 1)).days\n",
    "  past_len: int = (ymd - datetime(int(year), 1, 1)).days\n",
    "\n",
    "  fraction: float = past_len / year_len\n",
    "  \n",
    "  return float(year) + fraction, float(delta_t)\n",
    "\n",
    "parsed = list(map(parse_line, lines))"
   ]
  },
  {
   "cell_type": "code",
   "execution_count": 3,
   "id": "ca0b7873",
   "metadata": {},
   "outputs": [
    {
     "data": {
      "text/plain": [
       "[(1973.0849315068492, 43.4724),\n",
       " (1976.4972677595629, 46.997),\n",
       " (1979.9150684931508, 50.4599),\n",
       " (1983.3287671232877, 53.3024),\n",
       " (1986.7479452054795, 55.1898),\n",
       " (1990.1616438356164, 56.9755),\n",
       " (1993.5808219178082, 59.6343),\n",
       " (1997.0, 62.295),\n",
       " (2000.4153005464482, 63.9691),\n",
       " (2003.8328767123287, 64.5544),\n",
       " (2007.2465753424658, 65.2494),\n",
       " (2010.6657534246576, 66.2349),\n",
       " (2014.0849315068492, 67.3136),\n",
       " (2017.495890410959, 68.8245),\n",
       " (2020.9153005464482, 69.363)]"
      ]
     },
     "execution_count": 3,
     "metadata": {},
     "output_type": "execute_result"
    }
   ],
   "source": [
    "parsed[::41]"
   ]
  },
  {
   "cell_type": "code",
   "execution_count": 4,
   "id": "d343d365",
   "metadata": {},
   "outputs": [
    {
     "name": "stdout",
     "output_type": "stream",
     "text": [
      "614 - 614 - 614\n"
     ]
    }
   ],
   "source": [
    "import numpy as np\n",
    "from common import delta_t_algo1, delta_t_algo2\n",
    "\n",
    "years            = np.array([y for y, _ in parsed])\n",
    "expected_values  = np.array([v for _, v in parsed])\n",
    "\n",
    "vf_algo1 = np.vectorize(delta_t_algo1)\n",
    "vf_algo2 = np.vectorize(delta_t_algo2)\n",
    "\n",
    "algo1_values = vf_algo1(years)\n",
    "algo2_values = vf_algo2(years)\n",
    "\n",
    "print(f'{len(parsed)} - {len(algo1_values)} - {len(algo2_values)}')\n"
   ]
  },
  {
   "cell_type": "code",
   "execution_count": 5,
   "id": "5dbdd5c2",
   "metadata": {},
   "outputs": [
    {
     "data": {
      "text/html": [
       "<div>\n",
       "<style scoped>\n",
       "    .dataframe tbody tr th:only-of-type {\n",
       "        vertical-align: middle;\n",
       "    }\n",
       "\n",
       "    .dataframe tbody tr th {\n",
       "        vertical-align: top;\n",
       "    }\n",
       "\n",
       "    .dataframe thead th {\n",
       "        text-align: right;\n",
       "    }\n",
       "</style>\n",
       "<table border=\"1\" class=\"dataframe\">\n",
       "  <thead>\n",
       "    <tr style=\"text-align: right;\">\n",
       "      <th></th>\n",
       "      <th>year</th>\n",
       "      <th>expected_value</th>\n",
       "      <th>algo1_value</th>\n",
       "      <th>algo2_value</th>\n",
       "    </tr>\n",
       "  </thead>\n",
       "  <tbody>\n",
       "    <tr>\n",
       "      <th>0</th>\n",
       "      <td>1973.084932</td>\n",
       "      <td>43.4724</td>\n",
       "      <td>43.371883</td>\n",
       "      <td>43.402298</td>\n",
       "    </tr>\n",
       "    <tr>\n",
       "      <th>1</th>\n",
       "      <td>1973.161644</td>\n",
       "      <td>43.5648</td>\n",
       "      <td>43.453718</td>\n",
       "      <td>43.484129</td>\n",
       "    </tr>\n",
       "    <tr>\n",
       "      <th>2</th>\n",
       "      <td>1973.246575</td>\n",
       "      <td>43.6737</td>\n",
       "      <td>43.544376</td>\n",
       "      <td>43.574779</td>\n",
       "    </tr>\n",
       "    <tr>\n",
       "      <th>3</th>\n",
       "      <td>1973.328767</td>\n",
       "      <td>43.7782</td>\n",
       "      <td>43.632159</td>\n",
       "      <td>43.662553</td>\n",
       "    </tr>\n",
       "    <tr>\n",
       "      <th>4</th>\n",
       "      <td>1973.413699</td>\n",
       "      <td>43.8763</td>\n",
       "      <td>43.722914</td>\n",
       "      <td>43.753298</td>\n",
       "    </tr>\n",
       "    <tr>\n",
       "      <th>609</th>\n",
       "      <td>2023.832877</td>\n",
       "      <td>69.1727</td>\n",
       "      <td>83.216453</td>\n",
       "      <td>73.772823</td>\n",
       "    </tr>\n",
       "    <tr>\n",
       "      <th>610</th>\n",
       "      <td>2023.915068</td>\n",
       "      <td>69.1724</td>\n",
       "      <td>83.343665</td>\n",
       "      <td>73.821237</td>\n",
       "    </tr>\n",
       "    <tr>\n",
       "      <th>611</th>\n",
       "      <td>2024.000000</td>\n",
       "      <td>69.1752</td>\n",
       "      <td>83.475160</td>\n",
       "      <td>73.871344</td>\n",
       "    </tr>\n",
       "    <tr>\n",
       "      <th>612</th>\n",
       "      <td>2024.084699</td>\n",
       "      <td>69.1797</td>\n",
       "      <td>83.606341</td>\n",
       "      <td>73.921394</td>\n",
       "    </tr>\n",
       "    <tr>\n",
       "      <th>613</th>\n",
       "      <td>2024.163934</td>\n",
       "      <td>69.1874</td>\n",
       "      <td>83.729098</td>\n",
       "      <td>73.968288</td>\n",
       "    </tr>\n",
       "  </tbody>\n",
       "</table>\n",
       "</div>"
      ],
      "text/plain": [
       "            year  expected_value  algo1_value  algo2_value\n",
       "0    1973.084932         43.4724    43.371883    43.402298\n",
       "1    1973.161644         43.5648    43.453718    43.484129\n",
       "2    1973.246575         43.6737    43.544376    43.574779\n",
       "3    1973.328767         43.7782    43.632159    43.662553\n",
       "4    1973.413699         43.8763    43.722914    43.753298\n",
       "609  2023.832877         69.1727    83.216453    73.772823\n",
       "610  2023.915068         69.1724    83.343665    73.821237\n",
       "611  2024.000000         69.1752    83.475160    73.871344\n",
       "612  2024.084699         69.1797    83.606341    73.921394\n",
       "613  2024.163934         69.1874    83.729098    73.968288"
      ]
     },
     "execution_count": 5,
     "metadata": {},
     "output_type": "execute_result"
    }
   ],
   "source": [
    "import pandas as pd\n",
    "\n",
    "df = pd.DataFrame({\n",
    "  'year':           years,\n",
    "  'expected_value': expected_values,\n",
    "  'algo1_value':    algo1_values,\n",
    "  'algo2_value':    algo2_values\n",
    "})\n",
    "\n",
    "pd.concat([df.head(5), df.tail(5)])"
   ]
  },
  {
   "cell_type": "code",
   "execution_count": 8,
   "id": "05ffebdf",
   "metadata": {},
   "outputs": [
    {
     "data": {
      "text/html": [
       "<div>\n",
       "<style scoped>\n",
       "    .dataframe tbody tr th:only-of-type {\n",
       "        vertical-align: middle;\n",
       "    }\n",
       "\n",
       "    .dataframe tbody tr th {\n",
       "        vertical-align: top;\n",
       "    }\n",
       "\n",
       "    .dataframe thead th {\n",
       "        text-align: right;\n",
       "    }\n",
       "</style>\n",
       "<table border=\"1\" class=\"dataframe\">\n",
       "  <thead>\n",
       "    <tr style=\"text-align: right;\">\n",
       "      <th></th>\n",
       "      <th>Metric</th>\n",
       "      <th>Algo1</th>\n",
       "      <th>Algo2</th>\n",
       "    </tr>\n",
       "  </thead>\n",
       "  <tbody>\n",
       "    <tr>\n",
       "      <th>0</th>\n",
       "      <td>MAE</td>\n",
       "      <td>1.618161</td>\n",
       "      <td>0.598376</td>\n",
       "    </tr>\n",
       "    <tr>\n",
       "      <th>1</th>\n",
       "      <td>MSE</td>\n",
       "      <td>13.445706</td>\n",
       "      <td>1.429614</td>\n",
       "    </tr>\n",
       "    <tr>\n",
       "      <th>2</th>\n",
       "      <td>RMSE</td>\n",
       "      <td>3.666839</td>\n",
       "      <td>1.195665</td>\n",
       "    </tr>\n",
       "    <tr>\n",
       "      <th>3</th>\n",
       "      <td>R2</td>\n",
       "      <td>0.757420</td>\n",
       "      <td>0.974208</td>\n",
       "    </tr>\n",
       "    <tr>\n",
       "      <th>4</th>\n",
       "      <td>MAPE</td>\n",
       "      <td>0.023777</td>\n",
       "      <td>0.008825</td>\n",
       "    </tr>\n",
       "    <tr>\n",
       "      <th>5</th>\n",
       "      <td>Max Error</td>\n",
       "      <td>14.541698</td>\n",
       "      <td>4.780888</td>\n",
       "    </tr>\n",
       "  </tbody>\n",
       "</table>\n",
       "</div>"
      ],
      "text/plain": [
       "      Metric      Algo1     Algo2\n",
       "0        MAE   1.618161  0.598376\n",
       "1        MSE  13.445706  1.429614\n",
       "2       RMSE   3.666839  1.195665\n",
       "3         R2   0.757420  0.974208\n",
       "4       MAPE   0.023777  0.008825\n",
       "5  Max Error  14.541698  4.780888"
      ]
     },
     "execution_count": 8,
     "metadata": {},
     "output_type": "execute_result"
    }
   ],
   "source": [
    "from sklearn import metrics\n",
    "\n",
    "results = []\n",
    "\n",
    "results.append(('MAE', \n",
    "                metrics.mean_absolute_error(expected_values, algo1_values),\n",
    "                metrics.mean_absolute_error(expected_values, algo2_values),))\n",
    "\n",
    "results.append(('MSE', \n",
    "                metrics.mean_squared_error(expected_values, algo1_values),\n",
    "                metrics.mean_squared_error(expected_values, algo2_values),))\n",
    "\n",
    "results.append(('RMSE', \n",
    "                metrics.root_mean_squared_error(expected_values, algo1_values),\n",
    "                metrics.root_mean_squared_error(expected_values, algo2_values),))\n",
    "\n",
    "results.append(('R2', \n",
    "                metrics.r2_score(expected_values, algo1_values),\n",
    "                metrics.r2_score(expected_values, algo2_values),))\n",
    "\n",
    "results.append(('MAPE', \n",
    "                metrics.mean_absolute_percentage_error(expected_values, algo1_values),\n",
    "                metrics.mean_absolute_percentage_error(expected_values, algo2_values),))\n",
    "\n",
    "results.append(('Max Error', \n",
    "                metrics.max_error(expected_values, algo1_values),\n",
    "                metrics.max_error(expected_values, algo2_values),))\n",
    "\n",
    "pd.DataFrame(results, columns=['Metric', 'Algo1', 'Algo2'])"
   ]
  },
  {
   "cell_type": "code",
   "execution_count": 7,
   "id": "fad6e96f",
   "metadata": {},
   "outputs": [
    {
     "data": {
      "text/plain": [
       "'Apparently Algo2 is better.'"
      ]
     },
     "execution_count": 7,
     "metadata": {},
     "output_type": "execute_result"
    }
   ],
   "source": [
    "'Apparently Algo2 is better.'"
   ]
  }
 ],
 "metadata": {
  "kernelspec": {
   "display_name": "Python 3 (ipykernel)",
   "language": "python",
   "name": "python3"
  },
  "language_info": {
   "codemirror_mode": {
    "name": "ipython",
    "version": 3
   },
   "file_extension": ".py",
   "mimetype": "text/x-python",
   "name": "python",
   "nbconvert_exporter": "python",
   "pygments_lexer": "ipython3",
   "version": "3.12.3"
  }
 },
 "nbformat": 4,
 "nbformat_minor": 5
}
