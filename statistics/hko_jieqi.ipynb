{
 "cells": [
  {
   "cell_type": "markdown",
   "metadata": {},
   "source": [
    "### Parse and Encode the Jieqi Data\n",
    "* Data collected from Hong Kong Observatory\n",
    "* The downloaded data for Gregorian years 1901-2100 is in `./hko_data`\n",
    "* In this notebook, parse the Jieqi dates from downloaded HKO data"
   ]
  },
  {
   "cell_type": "code",
   "execution_count": 1,
   "metadata": {},
   "outputs": [
    {
     "name": "stdout",
     "output_type": "stream",
     "text": [
      "HKO data downloaded at /Users/0xf3cd/Git/celestial-calendar/statistics/hko_data\n"
     ]
    }
   ],
   "source": [
    "import common\n",
    "\n",
    "print(f'HKO data downloaded at {common.HKO_DATA_PATH}')"
   ]
  },
  {
   "cell_type": "code",
   "execution_count": 2,
   "metadata": {},
   "outputs": [],
   "source": [
    "jieqi_traditional_names: list[str] = list('''\n",
    "立春 雨水 驚蟄 春分 清明 穀雨\n",
    "立夏 小滿 芒種 夏至 小暑 大暑\n",
    "立秋 處暑 白露 秋分 寒露 霜降\n",
    "立冬 小雪 大雪 冬至 小寒 大寒\n",
    "'''.strip().split())"
   ]
  },
  {
   "cell_type": "code",
   "execution_count": 5,
   "metadata": {},
   "outputs": [
    {
     "name": "stdout",
     "output_type": "stream",
     "text": [
      "1912年01月07日    十九                  星期日            小寒                  \n",
      "1912年01月21日    初三                  星期日            大寒                  \n",
      "1912年02月05日    十八                  星期一            立春                  \n",
      "1912年02月20日    初三                  星期二            雨水                  \n",
      "1912年03月06日    十八                  星期三            驚蟄                  \n",
      "1912年03月21日    初三                  星期四            春分                  \n",
      "1912年04月05日    十八                  星期五            清明                  \n",
      "1912年04月20日    初四                  星期六            穀雨                  \n",
      "1912年05月06日    二十                  星期一            立夏                  \n",
      "1912年05月21日    初五                  星期二            小滿                  \n",
      "1912年06月06日    廿一                  星期四            芒種                  \n",
      "1912年06月22日    初八                  星期六            夏至                  \n",
      "1912年07月07日    廿三                  星期日            小暑                  \n",
      "1912年07月23日    初十                  星期二            大暑                  \n",
      "1912年08月08日    廿六                  星期四            立秋                  \n",
      "1912年08月23日    十一                  星期五            處暑                  \n",
      "1912年09月08日    廿七                  星期日            白露                  \n",
      "1912年09月23日    十三                  星期一            秋分                  \n",
      "1912年10月09日    廿九                  星期三            寒露                  \n",
      "1912年10月24日    十五                  星期四            霜降                  \n",
      "1912年11月08日    三十                  星期五            立冬                  \n",
      "1912年11月23日    十五                  星期六            小雪                  \n",
      "1912年12月07日    廿九                  星期六            大雪                  \n",
      "1912年12月22日    十四                  星期日            冬至                  \n",
      "\n"
     ]
    }
   ],
   "source": [
    "# List all .txt files in the HKO data directory.\n",
    "from pathlib import Path\n",
    "\n",
    "txt_files: list[Path] = list(common.HKO_DATA_PATH.glob('*.txt'))\n",
    "\n",
    "def filter_line(l: str) -> bool:\n",
    "  splitted = l.strip().split()\n",
    "  if len(splitted) != 4:\n",
    "    return False\n",
    "  if splitted[3] not in jieqi_traditional_names:\n",
    "    return False\n",
    "  return True\n",
    "\n",
    "lines = list(filter(filter_line, txt_files[0].open('r').readlines()))\n",
    "print(''.join(lines))"
   ]
  }
 ],
 "metadata": {
  "kernelspec": {
   "display_name": "py312",
   "language": "python",
   "name": "python3"
  },
  "language_info": {
   "codemirror_mode": {
    "name": "ipython",
    "version": 3
   },
   "file_extension": ".py",
   "mimetype": "text/x-python",
   "name": "python",
   "nbconvert_exporter": "python",
   "pygments_lexer": "ipython3",
   "version": "3.12.3"
  }
 },
 "nbformat": 4,
 "nbformat_minor": 2
}
